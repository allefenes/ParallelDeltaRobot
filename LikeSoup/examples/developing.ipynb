{
 "cells": [
  {
   "cell_type": "code",
   "execution_count": 14,
   "metadata": {},
   "outputs": [],
   "source": [
    "import numpy as np\n",
    "import json\n",
    "from deltaRobot import deltaRobot\n",
    "\n",
    "trajectoryPlan = np.load(\"trajectories/trajectory1.npy\")\n",
    "\n",
    "myRobot = deltaRobot(la = 64.2, lb = 201, ra = 75, rb=37.5, btf=240, minTurnAngle=0.29, cwMax=150, ccwMax=-70, jointMax=14)\n",
    "\n",
    "planTableTheta = []\n",
    "planTableCoo = []\n",
    "\n",
    "for i in range(1000):\n",
    "    res1 = myRobot.inverseKinematic(trajectoryPlan[0,i],trajectoryPlan[1,i],trajectoryPlan[2,i])\n",
    "    planTableTheta.append(res1)\n",
    "    res2 = myRobot.forwardKinematic(res1[0], res1[1], res1[2])\n",
    "    planTableCoo.append(res2)\n",
    "\n",
    "        \n"
   ]
  }
 ],
 "metadata": {
  "kernelspec": {
   "display_name": "Python 3",
   "language": "python",
   "name": "python3"
  },
  "language_info": {
   "codemirror_mode": {
    "name": "ipython",
    "version": 3
   },
   "file_extension": ".py",
   "mimetype": "text/x-python",
   "name": "python",
   "nbconvert_exporter": "python",
   "pygments_lexer": "ipython3",
   "version": "3.12.1"
  }
 },
 "nbformat": 4,
 "nbformat_minor": 2
}
